{
 "cells": [
  {
   "cell_type": "code",
   "execution_count": 1,
   "metadata": {
    "collapsed": false
   },
   "outputs": [
    {
     "name": "stdout",
     "output_type": "stream",
     "text": [
      "20.5 35.0 mean= 29.962962962962962 median= 25.0 IQR= 14.5\n"
     ]
    },
    {
     "data": {
      "image/png": "[encoded data removed]",
      "text/plain": [
       "<matplotlib.figure.Figure at 0x2097f29b3c8>"
      ]
     },
     "metadata": {},
     "output_type": "display_data"
    },
    {
     "data": {
      "image/png": "[encoded data removed]",
      "text/plain": [
       "<matplotlib.figure.Figure at 0x2097f7334a8>"
      ]
     },
     "metadata": {},
     "output_type": "display_data"
    }
   ],
   "source": [
    "####Question 1\n",
    "###the method pandas uses for quantile calculation is method 2 from\n",
    "###https://en.wikipedia.org/wiki/Quartile\n",
    "###there are different ways of computing quantiles/quartiles\n",
    "\n",
    "import pandas as pd\n",
    "import matplotlib.pyplot as plt\n",
    "\n",
    "x=[13, 15, 16, 16, 19, 20, 20, 21, 22, 22, 25, 25, 25, 25, 30, 33, 33, 35, 35, 35, 35, 36, 40, 45, 46, 52, 70]\n",
    "s=pd.Series(x)\n",
    "q1=s.quantile(.25)\n",
    "q3=s.quantile(.75)\n",
    "iqr = q3-q1\n",
    "print(q1,q3,\"mean=\",s.mean(),\"median=\",s.median(),\"IQR=\",iqr)\n",
    "\n",
    "\n",
    "# set whis to 'range' to enforce the whiskers be the min and max\n",
    "s.plot(kind='box',whis='range',ylim=(0,80))\n",
    "plt.show()\n",
    "# by default whiskers is 1.5*IQR\n",
    "s.plot(kind='box',ylim=(0,80))\n",
    "\n",
    "plt.show()\n",
    "\n",
    "\n"
   ]
  },
  {
   "cell_type": "code",
   "execution_count": 2,
   "metadata": {
    "collapsed": false
   },
   "outputs": [
    {
     "name": "stdout",
     "output_type": "stream",
     "text": [
      "Q1: 18.25 Q3: 37.0 IQR: 18.75 \n",
      "\n",
      "Suspected: [   70    70   300   900 10000]\n",
      "Suspected: [  300   900 10000]\n"
     ]
    }
   ],
   "source": [
    "#####Question 2\n",
    "\n",
    "x=[1,2,3,4,5, 13, 15, 16, 16, 19, 20, 20, 21, 22, 22, 25, 25, 25, 25, 30, 33, 33, 35, 35, 35, 35, 36, 40, 45, 46, 52, 70, 70, 300, 900, 10000]\n",
    "dat=pd.Series(x)\n",
    "themedian=s.median()\n",
    "q1=dat.quantile(.25)\n",
    "q3=dat.quantile(.75)\n",
    "iqr=q3-q1\n",
    "print(\"Q1:\", q1, \"Q3:\", q3, \"IQR:\", iqr,\"\\n\")\n",
    "\n",
    "suspected=dat[(dat > q3+1.5*iqr) | (dat < q1-1.5*iqr)]\n",
    "outliers=dat[(dat > q3+3*iqr) | (dat < q1-3*iqr)]\n",
    "print(\"Suspected:\", suspected.values)\n",
    "print(\"Suspected:\", outliers.values)\n",
    "\n",
    "\n",
    "\n",
    "\n"
   ]
  },
  {
   "cell_type": "markdown",
   "metadata": {},
   "source": [
    "3) \n",
    "\n",
    "Method 1\n",
    "Original x: 22.0 2.0 3.0 1.0 42.0 nan 10.0 nan\n",
    "Original y: nan 16.0 nan 17.0 20.0 0.0 36.0 8.0\n",
    "New x: 22.0 2.0 3.0 1.0 42.0 13.3333333333 10.0 13.3333333333\n",
    "New y: 16.1666666667 16.0 16.1666666667 17.0 20.0 0.0 36.0 8.0\n",
    "Distance: 45.0067896112\n",
    "\n",
    "Method 2\n",
    "Distance: 80.2994395995\n",
    "\n",
    "Mean Imputation\n",
    "pros:\n",
    "easy to implement\n",
    "appliable to most of the case where data are normally or close to normally distributed\n",
    "cons:\n",
    "assume data are skewed around the mean value, while in reality the data distribution may be more complex\n",
    "Scaling\n",
    "pros:\n",
    "slightly more efficient, since less data are used for distance computation\n",
    "no assmupation on the distribution of data, aviod shortcomes of mean imputation\n",
    "cons:\n",
    "lose information, some data are discarded because of the corresponding entries are missing in the other vector\n",
    "note both methods cannot work well with datasets have a large amount of missing data. In this case, obtaining more data might be a better option, instead of fiiling missing values with limited information\n",
    "\n",
    "Misleading results\n",
    "too much missing entries\n",
    "missing values only occur on the parts that are far different from the majority of data\n"
   ]
  },
  {
   "cell_type": "raw",
   "metadata": {},
   "source": [
    "Q4)\n",
    "new item\n",
    "find similar items in current dataset (based on description, author, title, category, etc), take the mean (or other summarization) of these neighbours as the initialization of the new item\n",
    "pay someone to rate the new item\n",
    "new user\n",
    "use similar users' data to initilize the new user (possibly, based on gender, age, region, etc)\n",
    "ask user questions to obtain more data in the first place, e.g. providing a collection of items and asking user to chose the ones they like\n",
    "use the most popular items as the initial suggestion\n",
    "system wide (overall, no enough data to provide good recommendation)\n",
    "use content-based recomendation at first, after getting enough data, then move to collaborative filtering method such as matrix factorization"
   ]
  },
  {
   "cell_type": "raw",
   "metadata": {},
   "source": [
    "Q5)\n",
    "Reason\n",
    "a circle \n",
    "popular items been recommended --> users are more likely to give high rates to these item --> the popularity of these items increase\n",
    "RS has no understanding of the items themselves, over and under recommending naturally occur as the system is performing its job\n",
    "Approaches to address this\n",
    "adding an extra level to manipulate the results from RS, to ensure the diversity (cover a broad range of items)\n",
    "giving weight to the timeliness of a item, to prevent users get the same recomendation all the time\n"
   ]
  },
  {
   "cell_type": "raw",
   "metadata": {},
   "source": [
    "###Q6 \n",
    "\n",
    "\n",
    "Format and description:\n",
    "-\tCSV, Polling numbers by constituency divided into the types of votes\n",
    "-\tJSON, Incidence among the US population of diabetes\n",
    "-\tExcel spreadsheet, Rainfall and temperature measurements at the Essendon Airport weather station\n",
    "Research questions:\n",
    "-\tAre there more postal votes in a particular state?\n",
    "-\tIs diabetes more prevalent in lower income population bands?\n",
    "-\tHas rainfall increased since 1929 at Essendon Airport?\n",
    "Numerical/categorical variables\n",
    "-\tCategorical: DivisionID, DivisionNm, StateAb; Numerical: all the others\n",
    "-\tCategorical: Category, Group, Prevalence; Numerical: the year divisions\n",
    "-\tCategorical: Product code, BoM station number; Numerical: all the others\n"
   ]
  },
  {
   "cell_type": "raw",
   "metadata": {},
   "source": [
    "Q7\n",
    "\n",
    "\n",
    "Errors:\n",
    "-\tB2, B3, B4 – semantic (code instead of state name) [can fix – if you know state names]\n",
    "-\tE8 – range (percent over 100) [can’t fix – don’t know correct number]\n",
    "-\tE16 – format (text instead of number) [can fix – replace text with number]\n",
    "-\tA5 – range (year in the future) [can possibly fix – don’t know correct year, though you could probably guess in this instance]\n",
    "-\tA12 – duplicates\n"
   ]
  },
  {
   "cell_type": "code",
   "execution_count": 31,
   "metadata": {
    "collapsed": false
   },
   "outputs": [],
   "source": [
    "##Q8)\n",
    "\n",
    "\n",
    "smoke=pd.read_csv('smoking-info-corrected.csv',encoding = 'ISO-8859-1')\n",
    "Alaska2=smoke.loc[smoke['State']==\"Alaska\"]\n",
    "Alaska=Alaska2.replace('%','',regex=True)\n",
    "Alaska[['Smoke everyday','Smoke some days','Former smoker','Never smoked']] = Alaska[['Smoke everyday','Smoke some days','Former smoker','Never smoked']].apply(pd.to_numeric)\n",
    "\n",
    "Alaska.plot.scatter('Year','Smoke everyday')\n",
    "Alaska.plot.scatter('Year','Smoke some days')\n",
    "Alaska.plot.scatter('Year','Former smoker')\n",
    "Alaska.plot.scatter('Year','Never smoked')\n",
    "plt.show()\n",
    "\n"
   ]
  },
  {
   "cell_type": "raw",
   "metadata": {
    "collapsed": true
   },
   "source": [
    "From the four charts: ‘former smoker’ and ‘smoke some days’ show no discernible pattern. However, ‘smoke every day’ shows a downward trend, which corresponds with an upward trend in ‘never smoked’. A (very non-specific) association rule could be:\n",
    "\n",
    "“If a person living in Alaska is asked about their smoking status, then they are 10% more likely to answer with ‘never smoked’ than ‘smoke every day’ if questioned in 2010 than in 1995.”\n"
   ]
  },
  {
   "cell_type": "code",
   "execution_count": null,
   "metadata": {
    "collapsed": true
   },
   "outputs": [],
   "source": []
  }
 ],
 "metadata": {
  "kernelspec": {
   "display_name": "Python 3",
   "language": "python",
   "name": "python3"
  },
  "language_info": {
   "codemirror_mode": {
    "name": "ipython",
    "version": 3
   },
   "file_extension": ".py",
   "mimetype": "text/x-python",
   "name": "python",
   "nbconvert_exporter": "python",
   "pygments_lexer": "ipython3",
   "version": "3.6.0"
  }
 },
 "nbformat": 4,
 "nbformat_minor": 0
}
